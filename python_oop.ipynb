{
  "nbformat": 4,
  "nbformat_minor": 0,
  "metadata": {
    "colab": {
      "provenance": [],
      "toc_visible": true,
      "authorship_tag": "ABX9TyPHKrfHbMzfpOz2EaHcqFcG",
      "include_colab_link": true
    },
    "kernelspec": {
      "name": "python3",
      "display_name": "Python 3"
    },
    "language_info": {
      "name": "python"
    }
  },
  "cells": [
    {
      "cell_type": "markdown",
      "metadata": {
        "id": "view-in-github",
        "colab_type": "text"
      },
      "source": [
        "<a href=\"https://colab.research.google.com/github/hasnatosman/python_oop/blob/master/python_oop.ipynb\" target=\"_parent\"><img src=\"https://colab.research.google.com/assets/colab-badge.svg\" alt=\"Open In Colab\"/></a>"
      ]
    },
    {
      "cell_type": "markdown",
      "source": [
        "# Basics of OOP\n",
        "Object-Oriented Programming (OOP) is a programming paradigm based on the concept of objects. These objects can contain data (attributes) and code (methods) to operate on the data."
      ],
      "metadata": {
        "id": "-WnwLFMrADYS"
      }
    },
    {
      "cell_type": "markdown",
      "source": [
        "## Class\n",
        "A class is a blueprint for creating objects. It defines attributes and methods that the objects will have."
      ],
      "metadata": {
        "id": "KIIMzufeAYU8"
      }
    },
    {
      "cell_type": "code",
      "source": [
        "class Car:\n",
        "  def __init__(self, brand, model):\n",
        "    self.brand = brand\n",
        "    self.model = model\n"
      ],
      "metadata": {
        "id": "bTa8XoKVAfSl"
      },
      "execution_count": 2,
      "outputs": []
    },
    {
      "cell_type": "markdown",
      "source": [
        "## Object\n",
        "An object is an instance of a class that encapsulates data and behavior."
      ],
      "metadata": {
        "id": "em-fY68ZATnz"
      }
    },
    {
      "cell_type": "code",
      "source": [
        "car1 = Car('Toyota', 'Corolla')\n",
        "print(car1.brand)\n",
        "print(car1.model)"
      ],
      "metadata": {
        "colab": {
          "base_uri": "https://localhost:8080/"
        },
        "id": "geiMeCiWAGt6",
        "outputId": "dc8713a7-db66-443b-b0ae-285ccb25cfd8"
      },
      "execution_count": 3,
      "outputs": [
        {
          "output_type": "stream",
          "name": "stdout",
          "text": [
            "Toyota\n",
            "Corolla\n"
          ]
        }
      ]
    },
    {
      "cell_type": "markdown",
      "source": [
        "## Identity\n",
        "Every object has a unique identity, which can be checked using the id() function."
      ],
      "metadata": {
        "id": "xI4ecD4CBmHI"
      }
    },
    {
      "cell_type": "code",
      "source": [
        "car1 = Car('Toyota', 'Corolla')\n",
        "car2 = Car('Toyota', 'Corolla')\n",
        "print(id(car1) == id(car2) )"
      ],
      "metadata": {
        "id": "0_FC4zECBsNy",
        "colab": {
          "base_uri": "https://localhost:8080/"
        },
        "outputId": "6f695c7c-fed9-42a0-bf22-fcd344a12b0d"
      },
      "execution_count": 6,
      "outputs": [
        {
          "output_type": "stream",
          "name": "stdout",
          "text": [
            "False\n"
          ]
        }
      ]
    },
    {
      "cell_type": "markdown",
      "source": [
        "## Pillars of OOP\n",
        "\n",
        "*   **Encapsulation**: Wrapping data and methods into a single unit (class).\n",
        "*   **Abstraction**: Hiding implementation details and showing only functionality.\n",
        "*   **Inheritance**: Deriving new classes from existing ones.\n",
        "*   **Polymorphism**: Using a single interface to represent different types."
      ],
      "metadata": {
        "id": "noUJFdOmpu4A"
      }
    },
    {
      "cell_type": "markdown",
      "source": [
        "### 1. Encapsulation\n",
        "**Definition:** Encapsulation is the bundling of data (attributes) and methods (functions) into a single unit, usually a class. It also involves restricting access to some components using access modifiers to ensure controlled interaction."
      ],
      "metadata": {
        "id": "AIz0OEZ2ubgK"
      }
    },
    {
      "cell_type": "code",
      "source": [
        "class BankAccount:\n",
        "  def __init__(self, balance):\n",
        "    self.__balance = balance      # private attribute\n",
        "\n",
        "  def deposit(self, amount):\n",
        "    if amount > 0:\n",
        "      self.__balance += amount\n",
        "\n",
        "  def withdraw(self, amount):\n",
        "    if 0 < amount <= self.__balance:\n",
        "      self.__balance -= amount\n",
        "    else:\n",
        "      print(\"Invalid withdrawal amount!\")\n",
        "\n",
        "  def get_balance(self):\n",
        "    return self.__balance\n",
        "\n",
        "\n",
        "# usage\n",
        "\n",
        "account = BankAccount(1000)\n",
        "account.deposit(500)\n",
        "print(account.get_balance())\n",
        "account.__balance = 5000  # This won't change the actual balance\n",
        "print(account.get_balance())  # Output: 1500"
      ],
      "metadata": {
        "colab": {
          "base_uri": "https://localhost:8080/"
        },
        "id": "PO2s3p3IqL8a",
        "outputId": "9fb331a8-c7d4-478e-daf6-798c8d3f15bd"
      },
      "execution_count": 16,
      "outputs": [
        {
          "output_type": "stream",
          "name": "stdout",
          "text": [
            "1500\n",
            "1500\n"
          ]
        }
      ]
    },
    {
      "cell_type": "markdown",
      "source": [
        "**Explanation:**\n",
        "\n",
        "The attribute `__balance` is private and cannot be directly accessed or modified.\n",
        "Access to the balance is controlled via public methods like `deposit`, `withdraw`, and `get_balance`."
      ],
      "metadata": {
        "id": "KAxr85jTbvtm"
      }
    },
    {
      "cell_type": "markdown",
      "source": [
        "### 2. Abstraction\n",
        "**Definition:**\n",
        "Abstraction involves hiding complex implementation details and exposing only the essential features of an object."
      ],
      "metadata": {
        "id": "bjZ8FIJoEr2_"
      }
    },
    {
      "cell_type": "code",
      "source": [
        "from abc import ABC, abstractmethod\n",
        "class PaymentProcessor(ABC):\n",
        "  @abstractmethod\n",
        "  def process_payment(self, amount):\n",
        "    pass\n",
        "\n",
        "\n",
        "class CreditCardProcessor(PaymentProcessor):\n",
        "  def process_payment(self, amount):\n",
        "    print(f\"Processing credit card payment of ${amount}\")\n",
        "\n",
        "\n",
        "class PapalProcessor(PaymentProcessor):\n",
        "  def process_payment(self, amount):\n",
        "    print(f\"Processing Paypal payment of $ {amount}\")\n",
        "\n",
        "# Usage\n",
        "def make_payment(processor:PaymentProcessor, amount):\n",
        "  processor.process_payment(amount)\n",
        "\n",
        "\n",
        "make_payment(CreditCardProcessor(),100)\n",
        "make_payment(PapalProcessor(),50)"
      ],
      "metadata": {
        "colab": {
          "base_uri": "https://localhost:8080/"
        },
        "id": "7pIaHhhZb_WK",
        "outputId": "94645c74-9208-48b4-cf93-2f4f0f781ee1"
      },
      "execution_count": 1,
      "outputs": [
        {
          "output_type": "stream",
          "name": "stdout",
          "text": [
            "Processing credit card payment of $100\n",
            "Processing Paypal payment of $ 50\n"
          ]
        }
      ]
    },
    {
      "cell_type": "markdown",
      "source": [
        "**Explanation:**\n",
        "\n",
        "*  The `PaymentProcessor` class is abstract, providing a general blueprint for payment processing.\n",
        "*  Subclasses like `CreditCardProcessor` and `PayPalProcessor` implement the specific details.\n",
        "*  The client code interacts only with the abstract interface, not the underlying implementation."
      ],
      "metadata": {
        "id": "T4qz3KtgI79w"
      }
    },
    {
      "cell_type": "markdown",
      "source": [
        "### 3. Inheritance\n",
        "**Definition**:\n",
        "Inheritance is a mechanism where one class (`child`) inherits the properties and behaviors of another class (`parent`). It allows for code reuse and the creation of hierarchical relationships."
      ],
      "metadata": {
        "id": "TSveuuyoJY4H"
      }
    },
    {
      "cell_type": "code",
      "source": [
        "class Animal:\n",
        "  def __init__(self, name):\n",
        "    self.name = name\n",
        "\n",
        "  def speak(self):\n",
        "    return f\"{self.name} makes a sound.\"\n",
        "\n",
        "class Dog(Animal):\n",
        "  def speak(self):\n",
        "    return f\"{self.name} barks.\"\n",
        "\n",
        "class Cat(Animal):\n",
        "  def speak(self):\n",
        "    return f\"{self.name} meaw.\"\n",
        "\n",
        "# Usage\n",
        "dog = Dog('Rex')\n",
        "cat = Cat('Tommy')\n",
        "print(dog.speak())\n",
        "print(cat.speak())"
      ],
      "metadata": {
        "colab": {
          "base_uri": "https://localhost:8080/"
        },
        "id": "b0bOTLlZJVvt",
        "outputId": "ed4f19f5-e816-4379-af8a-36e3ca03ac72"
      },
      "execution_count": 4,
      "outputs": [
        {
          "output_type": "stream",
          "name": "stdout",
          "text": [
            "Rex barks.\n",
            "Tommy meaw.\n"
          ]
        }
      ]
    },
    {
      "cell_type": "markdown",
      "source": [
        "**Explanation**:\n",
        "\n",
        "*  The `Animal` class is a parent class with a generic `speak` method.\n",
        "*  The `Dog` and `Cat` classes inherit from `Animal` and `override` the `speak` method to provide specific behavior."
      ],
      "metadata": {
        "id": "nif29NJRMNjH"
      }
    },
    {
      "cell_type": "markdown",
      "source": [
        "### 4. Polymorphism\n",
        "**Definition**:\n",
        "`Polymorphism` allows objects of different classes to be treated as objects of a common parent `class`, typically through method overriding or interfaces."
      ],
      "metadata": {
        "id": "oWEUVIbGMcX7"
      }
    },
    {
      "cell_type": "code",
      "source": [
        "class Shape():\n",
        "  def area(self):\n",
        "    pass\n",
        "\n",
        "class Circle(Shape):\n",
        "  def __init__(self, radius):\n",
        "    self.radius = radius\n",
        "\n",
        "  def area(self):\n",
        "    return 3.14 * self.radius ** 2\n",
        "\n",
        "class Rectangle(Shape):\n",
        "  def __init__(self, width, height):\n",
        "    self.width = width\n",
        "    self.height = height\n",
        "\n",
        "  def area(self):\n",
        "    return self.width * self.height\n",
        "\n",
        "\n",
        "# Usage\n",
        "shapes = [Circle(5), Rectangle(5,6)]\n",
        "for shape in shapes:\n",
        "  print(f\"Area: {shape.area()}\")"
      ],
      "metadata": {
        "colab": {
          "base_uri": "https://localhost:8080/"
        },
        "id": "O3utFeJ8Mto_",
        "outputId": "e5654653-6010-4a7e-88d2-6288fd12e192"
      },
      "execution_count": 6,
      "outputs": [
        {
          "output_type": "stream",
          "name": "stdout",
          "text": [
            "Area: 78.5\n",
            "Area: 30\n"
          ]
        }
      ]
    },
    {
      "cell_type": "markdown",
      "source": [
        "**Explanation**:\n",
        "\n",
        "*  Both `Circle` and `Rectangle` inherit from the `Shape` class and implement the `area` method.\n",
        "*  The `shapes` list can contain objects of different types (`Circle` and `Rectangle`) but be treated uniformly as `Shape` objects."
      ],
      "metadata": {
        "id": "31FZDNZcOTrF"
      }
    },
    {
      "cell_type": "markdown",
      "source": [
        "![WhatsApp Image 2024-12-20 at 19.23.39.jpeg](data:image/jpeg;base64,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)"
      ],
      "metadata": {
        "id": "WQeeH9gzPESu"
      }
    },
    {
      "cell_type": "markdown",
      "source": [
        "## Dependency\n",
        "A relationship where one class depends on another to perform its function."
      ],
      "metadata": {
        "id": "O8uki-UoQuUL"
      }
    },
    {
      "cell_type": "code",
      "source": [
        "class Engine:\n",
        "    def start(self):\n",
        "        return \"Engine started\"\n",
        "\n",
        "class Car:\n",
        "    def __init__(self, engine):\n",
        "        self.engine = engine\n",
        "\n",
        "    def start_car(self):\n",
        "        return self.engine.start()\n",
        "\n",
        "engine = Engine()\n",
        "car = Car(engine)\n",
        "print(car.start_car())  # Output: Engine started\n"
      ],
      "metadata": {
        "colab": {
          "base_uri": "https://localhost:8080/"
        },
        "id": "o_KLjEAtPZyt",
        "outputId": "abb49ebe-1bc9-4137-df30-a7e9b7812e51"
      },
      "execution_count": 7,
      "outputs": [
        {
          "output_type": "stream",
          "name": "stdout",
          "text": [
            "Engine started\n"
          ]
        }
      ]
    },
    {
      "cell_type": "markdown",
      "source": [
        "## Composition\n",
        "A \"has-a\" relationship where one class contains an object of another class."
      ],
      "metadata": {
        "id": "2Kx20w2HQ3Ce"
      }
    },
    {
      "cell_type": "code",
      "source": [
        "class Engine:\n",
        "    def start(self):\n",
        "        return \"Engine started\"\n",
        "\n",
        "class Car:\n",
        "    def __init__(self):\n",
        "        self.engine = Engine()\n",
        "\n",
        "    def start_car(self):\n",
        "        return self.engine.start()\n",
        "\n",
        "car = Car()\n",
        "print(car.start_car())  # Output: Engine started\n"
      ],
      "metadata": {
        "colab": {
          "base_uri": "https://localhost:8080/"
        },
        "id": "B6X4E0qOQ4hC",
        "outputId": "d20ea983-5085-44f0-82c4-5094f9525811"
      },
      "execution_count": 8,
      "outputs": [
        {
          "output_type": "stream",
          "name": "stdout",
          "text": [
            "Engine started\n"
          ]
        }
      ]
    },
    {
      "cell_type": "markdown",
      "source": [
        "## KISS (Keep It Simple, Stupid)\n",
        "Design should be as simple as possible."
      ],
      "metadata": {
        "id": "ESpXIEt8RL0w"
      }
    },
    {
      "cell_type": "code",
      "source": [
        "# Simple and clear function\n",
        "def add_numbers(a, b):\n",
        "    return a + b\n",
        "\n",
        "add_numbers(3,5)"
      ],
      "metadata": {
        "colab": {
          "base_uri": "https://localhost:8080/"
        },
        "id": "FJz-BaNPRWBs",
        "outputId": "69c26084-62fa-4760-d6f9-3ef799f31b9b"
      },
      "execution_count": 10,
      "outputs": [
        {
          "output_type": "execute_result",
          "data": {
            "text/plain": [
              "8"
            ]
          },
          "metadata": {},
          "execution_count": 10
        }
      ]
    },
    {
      "cell_type": "markdown",
      "source": [
        "## YAGNI (You Aren't Gonna Need It)\n",
        "Avoid implementing functionality until it is necessary."
      ],
      "metadata": {
        "id": "1FUy2uNZRybO"
      }
    },
    {
      "cell_type": "code",
      "source": [
        "# Avoid over-engineering\n",
        "class SimpleCalculator:\n",
        "    def add(self, a, b):\n",
        "        return a + b"
      ],
      "metadata": {
        "id": "tz47EQnTR5AP"
      },
      "execution_count": 13,
      "outputs": []
    },
    {
      "cell_type": "markdown",
      "source": [
        "## DRY (Don't Repeat Yourself)\n",
        "Avoid duplicating code by abstracting repetitive logic."
      ],
      "metadata": {
        "id": "IBiGoOvSSRpC"
      }
    },
    {
      "cell_type": "code",
      "source": [
        "def calculate_area(length, width):\n",
        "    return length * width\n"
      ],
      "metadata": {
        "id": "8UgE_AR-SVrB"
      },
      "execution_count": 14,
      "outputs": []
    },
    {
      "cell_type": "markdown",
      "source": [
        "## SOLID\n",
        "*  S: Single Responsibility Principle\n",
        "*  O: Open/Closed Principle\n",
        "*  L: Liskov Substitution Principle\n",
        "*  I: Interface Segregation Principle\n",
        "*  D: Dependency Inversion Principle"
      ],
      "metadata": {
        "id": "cg4f-SCnSaPE"
      }
    },
    {
      "cell_type": "code",
      "source": [
        "class Logger:\n",
        "    def log(self, message):\n",
        "        print(message)\n",
        "\n",
        "class Order:\n",
        "    def __init__(self, logger):\n",
        "        self.logger = logger\n",
        "\n",
        "    def place_order(self):\n",
        "        self.logger.log(\"Order placed\")\n",
        "\n",
        "logger = Logger()\n",
        "order = Order(logger)\n",
        "order.place_order()  # Output: Order placed\n"
      ],
      "metadata": {
        "colab": {
          "base_uri": "https://localhost:8080/"
        },
        "id": "83ljIdWFSnVB",
        "outputId": "6b71fd57-e41a-4d22-c94a-42a9af3ee4e3"
      },
      "execution_count": 15,
      "outputs": [
        {
          "output_type": "stream",
          "name": "stdout",
          "text": [
            "Order placed\n"
          ]
        }
      ]
    },
    {
      "cell_type": "markdown",
      "source": [
        "## Design Principles vs Design Patterns\n",
        "*  Design Principles: Guidelines for writing clean, maintainable code (e.g., SOLID, DRY).\n",
        "*  Design Patterns: Reusable solutions to common problems (e.g., Singleton, Factory)."
      ],
      "metadata": {
        "id": "M0HyMiQpSuYv"
      }
    },
    {
      "cell_type": "markdown",
      "source": [
        "## Cohesion and Coupling\n",
        "*  Cohesion: Degree to which elements of a module belong together.\n",
        "*  Coupling: Degree of dependency between modules."
      ],
      "metadata": {
        "id": "O-9qB9svS3PM"
      }
    },
    {
      "cell_type": "code",
      "source": [
        "class UserManager:\n",
        "    def add_user(self, name):\n",
        "        print(f\"User {name} added\")\n"
      ],
      "metadata": {
        "id": "MR4jxotOSzch"
      },
      "execution_count": 16,
      "outputs": []
    },
    {
      "cell_type": "markdown",
      "source": [
        "## Law of Demeter\n",
        "A class should only communicate with its direct dependencies."
      ],
      "metadata": {
        "id": "HcH4wtKtTHPg"
      }
    },
    {
      "cell_type": "code",
      "source": [
        "class Engine:\n",
        "    def start(self):\n",
        "        return \"Engine started\"\n",
        "\n",
        "class Car:\n",
        "    def __init__(self, engine):\n",
        "        self.engine = engine\n",
        "\n",
        "    def start(self):\n",
        "        return self.engine.start()\n",
        "\n",
        "car = Car(Engine())\n",
        "print(car.start())  # Output: Engine started\n"
      ],
      "metadata": {
        "colab": {
          "base_uri": "https://localhost:8080/"
        },
        "id": "oGmaviKKTJFG",
        "outputId": "a38578b0-16be-4e0e-aeb3-a4250f26630e"
      },
      "execution_count": 17,
      "outputs": [
        {
          "output_type": "stream",
          "name": "stdout",
          "text": [
            "Engine started\n"
          ]
        }
      ]
    },
    {
      "cell_type": "markdown",
      "source": [
        "## OOP Interview Questions Discussion\n",
        "Prepare to discuss and answer questions about:\n",
        "\n",
        "*  Real-life examples of OOP principles.\n",
        "*  When to use composition vs inheritance.\n",
        "*  Advantages of SOLID principles."
      ],
      "metadata": {
        "id": "E2EegkKRTOM0"
      }
    },
    {
      "cell_type": "markdown",
      "source": [
        "\n",
        "\n",
        "---\n",
        "\n"
      ],
      "metadata": {
        "id": "KB-cCO2FTXLW"
      }
    },
    {
      "cell_type": "code",
      "source": [],
      "metadata": {
        "id": "CwNm7BC9TYN3"
      },
      "execution_count": null,
      "outputs": []
    }
  ]
}